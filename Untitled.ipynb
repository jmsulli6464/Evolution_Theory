{
 "cells": [
  {
   "cell_type": "code",
   "execution_count": 39,
   "metadata": {},
   "outputs": [
    {
     "data": {
      "text/plain": [
       "0.75"
      ]
     },
     "execution_count": 39,
     "metadata": {},
     "output_type": "execute_result"
    }
   ],
   "source": [
    "bitcoins = 1000 / 1000 \n",
    "bitcoins -= bitcoins * (0.25)\n",
    "bitcoins"
   ]
  },
  {
   "cell_type": "code",
   "execution_count": null,
   "metadata": {},
   "outputs": [],
   "source": []
  },
  {
   "cell_type": "code",
   "execution_count": 53,
   "metadata": {},
   "outputs": [],
   "source": [
    "def convertBTC(BTCusd, BTCeur,amount,currency,exchangeRate):\n",
    "    if currency == 'eur':\n",
    "        \n",
    "        bitcoins = amount / BTCeur\n",
    "        bitcoins -= bitcoins * (0.11)\n",
    "        bit2usd = bitcoins * BTCusd\n",
    "        bit2usd -= bitcoins * (0.0)\n",
    "        outcome = bit2usd * exchangeRate\n",
    "        print('Comparsion: ', (BTCusd * exchangeRate)/BTCeur)\n",
    "        print('Bitcoins purchased: ', bitcoins)\n",
    "        print('Us dollars for bitcoins: ', bit2usd)\n",
    "        print('Outcome: Euro', outcome)\n",
    "        print('Profit/Loss',  outcome - amount)\n",
    "        return outcome\n",
    "    else:\n",
    "        \n",
    "        bitcoins = amount / BTCusd\n",
    "        bitcoins -= bitcoins * (0.1)\n",
    "        bit2eur = bitcoins * BTCeur\n",
    "        bit2eur -= bitcoins * (0.0)\n",
    "        outcome = bit2eur * exchangeRate\n",
    "        print('Comparsion: ', (BTCeur * exchangeRate)/ BTCusd)\n",
    "        print('Bitcoins purchased: ', bitcoins)\n",
    "        print('Euros for bitcoins: ', bit2eur)\n",
    "        print('Outcome: Dollar', outcome)\n",
    "        print('Profit/Loss', outcome - amount )\n",
    "        return outcome\n",
    "    "
   ]
  },
  {
   "cell_type": "code",
   "execution_count": 54,
   "metadata": {},
   "outputs": [
    {
     "name": "stdout",
     "output_type": "stream",
     "text": [
      "Comparsion:  0.985390104188876\n",
      "Bitcoins purchased:  1.265049109490711\n",
      "Us dollars for bitcoins:  10317.614032095289\n",
      "Outcome: Euro 8769.971927280996\n",
      "Profit/Loss -1230.0280727190038\n"
     ]
    },
    {
     "data": {
      "text/plain": [
       "8769.971927280996"
      ]
     },
     "execution_count": 54,
     "metadata": {},
     "output_type": "execute_result"
    }
   ],
   "source": [
    "convertBTC(8155.9, 7035.3, 10000, 'eur', 0.85)"
   ]
  },
  {
   "cell_type": "code",
   "execution_count": 55,
   "metadata": {},
   "outputs": [
    {
     "name": "stdout",
     "output_type": "stream",
     "text": [
      "Comparsion:  1.00924496376856\n",
      "Bitcoins purchased:  1.1034956289312032\n",
      "Euros for bitcoins:  7763.422798219694\n",
      "Outcome: Dollar 9083.204673917042\n",
      "Profit/Loss -916.7953260829581\n"
     ]
    },
    {
     "data": {
      "text/plain": [
       "9083.204673917042"
      ]
     },
     "execution_count": 55,
     "metadata": {},
     "output_type": "execute_result"
    }
   ],
   "source": [
    "convertBTC(8155.9, 7035.3, 10000, 'usd', 1.17)"
   ]
  },
  {
   "cell_type": "code",
   "execution_count": 30,
   "metadata": {},
   "outputs": [],
   "source": [
    "def difference(BTCusd, BTCeur, exchangeRate):\n",
    "    print('Comparison: ',  (BTCeur * exchangeRate) / BTCusd)"
   ]
  },
  {
   "cell_type": "code",
   "execution_count": 34,
   "metadata": {},
   "outputs": [
    {
     "name": "stdout",
     "output_type": "stream",
     "text": [
      "Comparison:  1.002005322938933\n"
     ]
    }
   ],
   "source": [
    "difference(477.18, 364.99,1.31)"
   ]
  },
  {
   "cell_type": "code",
   "execution_count": 49,
   "metadata": {},
   "outputs": [
    {
     "name": "stdout",
     "output_type": "stream",
     "text": [
      "Comparsion:  1.0472391660113496\n",
      "Bitcoins purchased:  1.8915644725935687\n",
      "Euros for bitcoins:  690.4021168519266\n",
      "Outcome: Dollar 932.042857750101\n",
      "Profit/Loss -67.957142249899\n",
      "932.042857750101\n",
      "Comparsion:  1.0472391660113496\n",
      "Bitcoins purchased:  1.7630191566546725\n",
      "Euros for bitcoins:  643.4843619873889\n",
      "Outcome: Dollar 868.703888682975\n",
      "Profit/Loss -63.33896906712596\n",
      "868.703888682975\n",
      "Comparsion:  1.0472391660113496\n",
      "Bitcoins purchased:  1.643209413036594\n",
      "Euros for bitcoins:  599.7550036642265\n",
      "Outcome: Dollar 809.6692549467058\n",
      "Profit/Loss -59.03463373626926\n",
      "809.6692549467058\n",
      "Comparsion:  1.0472391660113496\n",
      "Bitcoins purchased:  1.5315415972084934\n",
      "Euros for bitcoins:  558.997367565128\n",
      "Outcome: Dollar 754.6464462129228\n",
      "Profit/Loss -55.022808733782995\n",
      "754.6464462129228\n",
      "Comparsion:  1.0472391660113496\n",
      "Bitcoins purchased:  1.427462407025358\n",
      "Euros for bitcoins:  521.0095039401855\n",
      "Outcome: Dollar 703.3628303192504\n",
      "Profit/Loss -51.28361589367239\n",
      "703.3628303192504\n",
      "Comparsion:  1.0472391660113496\n",
      "Bitcoins purchased:  1.3304561411747526\n",
      "Euros for bitcoins:  485.603186967373\n",
      "Outcome: Dollar 655.5643024059536\n",
      "Profit/Loss -47.798527913296766\n",
      "655.5643024059536\n",
      "Comparsion:  1.0472391660113496\n",
      "Bitcoins purchased:  1.2400421439316884\n",
      "Euros for bitcoins:  452.602982113627\n",
      "Outcome: Dollar 611.0140258533964\n",
      "Profit/Loss -44.55027655255719\n",
      "611.0140258533964\n",
      "Comparsion:  1.0472391660113496\n",
      "Bitcoins purchased:  1.155772423560653\n",
      "Euros for bitcoins:  421.84537687540274\n",
      "Outcome: Dollar 569.4912587817937\n",
      "Profit/Loss -41.52276707160274\n",
      "569.4912587817937\n",
      "Comparsion:  1.0472391660113496\n",
      "Bitcoins purchased:  1.077229432564231\n",
      "Euros for bitcoins:  393.1779705916187\n",
      "Outcome: Dollar 530.7902602986853\n",
      "Profit/Loss -38.70099848310838\n",
      "530.7902602986853\n",
      "Comparsion:  1.0472391660113496\n",
      "Bitcoins purchased:  1.0040239987796857\n",
      "Euros for bitcoins:  366.4587193145975\n",
      "Outcome: Dollar 494.7192710747066\n",
      "Profit/Loss -36.0709892239787\n",
      "494.7192710747066\n",
      "Comparsion:  1.0472391660113496\n",
      "Bitcoins purchased:  0.9357933970723022\n",
      "Euros for bitcoins:  341.5552319974196\n",
      "Outcome: Dollar 461.09956319651644\n",
      "Profit/Loss -33.619707878190184\n",
      "461.09956319651644\n",
      "Comparsion:  1.0472391660113496\n",
      "Bitcoins purchased:  0.8721995520709435\n",
      "Euros for bitcoins:  318.3441145103737\n",
      "Outcome: Dollar 429.7645545890045\n",
      "Profit/Loss -31.335008607511952\n",
      "429.7645545890045\n",
      "Comparsion:  1.0472391660113496\n",
      "Bitcoins purchased:  0.8129273630405602\n",
      "Euros for bitcoins:  296.7103582361741\n",
      "Outcome: Dollar 400.55898361883504\n",
      "Profit/Loss -29.205570970169447\n",
      "400.55898361883504\n",
      "Comparsion:  1.0472391660113496\n",
      "Bitcoins purchased:  0.7576831425915777\n",
      "Euros for bitcoins:  276.54677021449993\n",
      "Outcome: Dollar 373.33813978957494\n",
      "Profit/Loss -27.220843829260104\n",
      "373.33813978957494\n",
      "Comparsion:  1.0472391660113496\n",
      "Bitcoins purchased:  0.7061931614901313\n",
      "Euros for bitcoins:  257.753442012283\n",
      "Outcome: Dollar 347.9671467165821\n",
      "Profit/Loss -25.37099307299286\n",
      "347.9671467165821\n",
      "Comparsion:  1.0472391660113496\n",
      "Bitcoins purchased:  0.6582022923588405\n",
      "Euros for bitcoins:  240.2372546880532\n",
      "Outcome: Dollar 324.32029382887185\n",
      "Profit/Loss -23.646852887710224\n",
      "324.32029382887185\n",
      "Comparsion:  1.0472391660113496\n",
      "Bitcoins purchased:  0.6134727455478012\n",
      "Euros for bitcoins:  223.91141739749196\n",
      "Outcome: Dollar 302.2804134866142\n",
      "Profit/Loss -22.039880342257675\n",
      "302.2804134866142\n",
      "Comparsion:  1.0472391660113496\n",
      "Bitcoins purchased:  0.5717828909121733\n",
      "Euros for bitcoins:  208.69503735403413\n",
      "Outcome: Dollar 281.7383004279461\n",
      "Profit/Loss -20.542113058668065\n",
      "281.7383004279461\n",
      "Comparsion:  1.0472391660113496\n",
      "Bitcoins purchased:  0.5329261596583963\n",
      "Euros for bitcoins:  194.51271901371805\n",
      "Outcome: Dollar 262.5921706685194\n",
      "Profit/Loss -19.146129759426742\n",
      "262.5921706685194\n",
      "Comparsion:  1.0472391660113496\n",
      "Bitcoins purchased:  0.4967100208177982\n",
      "Euros for bitcoins:  181.29419049828817\n",
      "Outcome: Dollar 244.74715717268904\n",
      "Profit/Loss -17.84501349583033\n",
      "244.74715717268904\n",
      "Comparsion:  1.0472391660113496\n",
      "Bitcoins purchased:  0.4629550272761328\n",
      "Euros for bitcoins:  168.9739554055157\n",
      "Outcome: Dollar 228.11483979744622\n",
      "Profit/Loss -16.63231737524282\n",
      "228.11483979744622\n",
      "Comparsion:  1.0472391660113496\n",
      "Bitcoins purchased:  0.4314939266322228\n",
      "Euros for bitcoins:  157.49096828149501\n",
      "Outcome: Dollar 212.61280718001828\n",
      "Profit/Loss -15.502032617427943\n",
      "212.61280718001828\n",
      "Comparsion:  1.0472391660113496\n",
      "Bitcoins purchased:  0.4021708324801094\n",
      "Euros for bitcoins:  146.78833214691514\n",
      "Outcome: Dollar 198.16424839833545\n",
      "Profit/Loss -14.448558781682834\n",
      "198.16424839833545\n",
      "Comparsion:  1.0472391660113496\n",
      "Bitcoins purchased:  0.37484045200849836\n",
      "Euros for bitcoins:  136.81301657858182\n",
      "Outcome: Dollar 184.69757238108548\n",
      "Profit/Loss -13.466676017249966\n",
      "184.69757238108548\n",
      "Comparsion:  1.0472391660113496\n",
      "Bitcoins purchased:  0.3493673660903404\n",
      "Euros for bitcoins:  127.51559494931335\n",
      "Outcome: Dollar 172.14605318157305\n",
      "Profit/Loss -12.551519199512427\n",
      "172.14605318157305\n",
      "Comparsion:  1.0472391660113496\n",
      "Bitcoins purchased:  0.3256253582954667\n",
      "Euros for bitcoins:  118.84999952426239\n",
      "Outcome: Dollar 160.44749935775423\n",
      "Profit/Loss -11.698553823818827\n",
      "160.44749935775423\n",
      "Comparsion:  1.0472391660113496\n",
      "Bitcoins purchased:  0.3034967895016073\n",
      "Euros for bitcoins:  110.77329320019165\n",
      "Outcome: Dollar 149.54394582025873\n",
      "Profit/Loss -10.903553537495497\n",
      "149.54394582025873\n",
      "Comparsion:  1.0472391660113496\n",
      "Bitcoins purchased:  0.2828720150050589\n",
      "Euros for bitcoins:  103.24545675669644\n",
      "Outcome: Dollar 139.3813666215402\n",
      "Profit/Loss -10.162579198718532\n",
      "139.3813666215402\n",
      "Comparsion:  1.0472391660113496\n",
      "Bitcoins purchased:  0.2636488412428445\n",
      "Euros for bitcoins:  96.2291905652258\n",
      "Outcome: Dollar 129.90940726305485\n",
      "Profit/Loss -9.47195935848535\n",
      "129.90940726305485\n",
      "Comparsion:  1.0472391660113496\n",
      "Bitcoins purchased:  0.24573201943448347\n",
      "Euros for bitcoins:  89.68972977339213\n",
      "Outcome: Dollar 121.08113519407938\n",
      "Profit/Loss -8.828272068975465\n",
      "121.08113519407938\n",
      "Comparsion:  1.0472391660113496\n",
      "Bitcoins purchased:  0.22903277363441937\n",
      "Euros for bitcoins:  83.59467204882672\n",
      "Outcome: Dollar 112.85280726591608\n",
      "Profit/Loss -8.228327928163296\n",
      "112.85280726591608\n",
      "Comparsion:  1.0472391660113496\n",
      "Bitcoins purchased:  0.21346836085665621\n",
      "Euros for bitcoins:  77.91381702907096\n",
      "Outcome: Dollar 105.1836529892458\n",
      "Profit/Loss -7.669154276670284\n",
      "105.1836529892458\n",
      "Comparsion:  1.0472391660113496\n",
      "Bitcoins purchased:  0.1989616610920677\n",
      "Euros for bitcoins:  72.61901668199378\n",
      "Outcome: Dollar 98.03567252069162\n",
      "Profit/Loss -7.147980468554181\n",
      "98.03567252069162\n",
      "Comparsion:  1.0472391660113496\n",
      "Bitcoins purchased:  0.18544079518695786\n",
      "Euros for bitcoins:  67.68403583528774\n",
      "Outcome: Dollar 91.37344837763847\n",
      "Profit/Loss -6.662224143053152\n",
      "91.37344837763847\n",
      "Comparsion:  1.0472391660113496\n",
      "Bitcoins purchased:  0.1728387686895034\n",
      "Euros for bitcoins:  63.08442218398185\n",
      "Outcome: Dollar 85.16396994837551\n",
      "Profit/Loss -6.209478429262958\n",
      "85.16396994837551\n",
      "Comparsion:  1.0472391660113496\n",
      "Bitcoins purchased:  0.16109313989937346\n",
      "Euros for bitcoins:  58.79738513187232\n",
      "Outcome: Dollar 79.37646992802763\n",
      "Profit/Loss -5.787500020347878\n",
      "79.37646992802763\n",
      "Comparsion:  1.0472391660113496\n",
      "Bitcoins purchased:  0.15014571047574887\n",
      "Euros for bitcoins:  54.80168286654358\n",
      "Outcome: Dollar 73.98227186983384\n",
      "Profit/Loss -5.394198058193794\n",
      "73.98227186983384\n",
      "Comparsion:  1.0472391660113496\n",
      "Bitcoins purchased:  0.13994223707073625\n",
      "Euros for bitcoins:  51.07751710844802\n",
      "Outcome: Dollar 68.95464809640484\n",
      "Profit/Loss -5.027623773428999\n",
      "68.95464809640484\n",
      "Comparsion:  1.0472391660113496\n",
      "Bitcoins purchased:  0.13043216255935114\n",
      "Euros for bitcoins:  47.606435012537574\n",
      "Outcome: Dollar 64.26868726692572\n",
      "Profit/Loss -4.685960829479114\n",
      "64.26868726692572\n",
      "Comparsion:  1.0472391660113496\n",
      "Bitcoins purchased:  0.12156836553434336\n",
      "Euros for bitcoins:  44.37123773637998\n",
      "Outcome: Dollar 59.90117094411298\n",
      "Profit/Loss -4.367516322812747\n",
      "59.90117094411298\n",
      "Comparsion:  1.0472391660113496\n",
      "Bitcoins purchased:  0.11330692682463826\n",
      "Euros for bitcoins:  41.35589522172472\n",
      "Outcome: Dollar 55.83045854932838\n",
      "Profit/Loss -4.0707123947846\n",
      "55.83045854932838\n",
      "Comparsion:  1.0472391660113496\n",
      "Bitcoins purchased:  0.10560691188051743\n",
      "Euros for bitcoins:  38.54546676727006\n",
      "Outcome: Dollar 52.03638013581458\n",
      "Profit/Loss -3.7940784135137946\n",
      "52.03638013581458\n",
      "Comparsion:  1.0472391660113496\n",
      "Bitcoins purchased:  0.09843016794728057\n",
      "Euros for bitcoins:  35.92602699907793\n",
      "Outcome: Dollar 48.500136448755214\n",
      "Profit/Loss -3.5362436870593683\n",
      "48.500136448755214\n",
      "Comparsion:  1.0472391660113496\n",
      "Bitcoins purchased:  0.09174113502240577\n",
      "Euros for bitcoins:  33.48459687182788\n",
      "Outcome: Dollar 45.20420577696765\n",
      "Profit/Loss -3.2959306717875663\n",
      "45.20420577696765\n",
      "Comparsion:  1.0472391660113496\n",
      "Bitcoins purchased:  0.08550666965952096\n",
      "Euros for bitcoins:  31.209079359028557\n",
      "Outcome: Dollar 42.13225713468856\n",
      "Profit/Loss -3.0719486422790894\n",
      "42.13225713468856\n",
      "Comparsion:  1.0472391660113496\n",
      "Bitcoins purchased:  0.07969588074615379\n",
      "Euros for bitcoins:  29.088199513538672\n",
      "Outcome: Dollar 39.26906934327721\n",
      "Profit/Loss -2.863187791411349\n",
      "39.26906934327721\n",
      "Comparsion:  1.0472391660113496\n",
      "Bitcoins purchased:  0.07427997644155644\n",
      "Euros for bitcoins:  27.111448601403687\n",
      "Outcome: Dollar 36.60045561189498\n",
      "Profit/Loss -2.66861373138223\n",
      "36.60045561189498\n"
     ]
    }
   ],
   "source": [
    "i = 1\n",
    "cash = 1000\n",
    "while i < 48:\n",
    "    cash = convertBTC(470.51,364.99, cash, 'usd', 1.35)\n",
    "    print(cash)\n",
    "    i += 1\n",
    "    \n",
    "\n",
    "  "
   ]
  },
  {
   "cell_type": "code",
   "execution_count": 1,
   "metadata": {},
   "outputs": [],
   "source": [
    "clam = {\"rate\":\"67.24870673\",\"limit\":0,\"pair\":\"CLAM_DGB\",\"maxLimit\":0,\"min\":0.00028335,\"minerFee\":0.01}"
   ]
  },
  {
   "cell_type": "code",
   "execution_count": 3,
   "metadata": {},
   "outputs": [
    {
     "name": "stdout",
     "output_type": "stream",
     "text": [
      "67.24870673\n"
     ]
    }
   ],
   "source": [
    "print(clam['rate'])"
   ]
  },
  {
   "cell_type": "code",
   "execution_count": 154,
   "metadata": {},
   "outputs": [],
   "source": [
    "import pandas as pd\n",
    "import json\n",
    "import random\n",
    "import itertools"
   ]
  },
  {
   "cell_type": "code",
   "execution_count": 126,
   "metadata": {},
   "outputs": [],
   "source": [
    "with open('CryptoRate.json', 'r') as f:\n",
    "    data = json.load(f)\n",
    "df = pd.DataFrame(data)"
   ]
  },
  {
   "cell_type": "code",
   "execution_count": null,
   "metadata": {},
   "outputs": [],
   "source": []
  },
  {
   "cell_type": "code",
   "execution_count": 127,
   "metadata": {},
   "outputs": [
    {
     "data": {
      "text/plain": [
       "2598.5963442"
      ]
     },
     "execution_count": 127,
     "metadata": {},
     "output_type": "execute_result"
    }
   ],
   "source": [
    "BTC2CLAM = float(df[df['pair'].str.contains(\"BTC_CLAM\")]['rate'].astype(float))\n",
    "BTC2CLAM"
   ]
  },
  {
   "cell_type": "code",
   "execution_count": 128,
   "metadata": {},
   "outputs": [
    {
     "data": {
      "text/plain": [
       "0.00640518"
      ]
     },
     "execution_count": 128,
     "metadata": {},
     "output_type": "execute_result"
    }
   ],
   "source": [
    "CLAM2ETH =  float(df[df['pair'].str.contains(\"CLAM_ETH\")]['rate'].astype(float))\n",
    "CLAM2ETH"
   ]
  },
  {
   "cell_type": "code",
   "execution_count": 129,
   "metadata": {},
   "outputs": [
    {
     "data": {
      "text/plain": [
       "0.05732495"
      ]
     },
     "execution_count": 129,
     "metadata": {},
     "output_type": "execute_result"
    }
   ],
   "source": [
    "ETH2BTC = float(df[df['pair'].str.contains(\"ETH_BTC\")]['rate'].astype(float))\n",
    "ETH2BTC"
   ]
  },
  {
   "cell_type": "code",
   "execution_count": 130,
   "metadata": {},
   "outputs": [
    {
     "data": {
      "text/plain": [
       "2598.5963442"
      ]
     },
     "execution_count": 130,
     "metadata": {},
     "output_type": "execute_result"
    }
   ],
   "source": [
    "BTC2CLAM"
   ]
  },
  {
   "cell_type": "code",
   "execution_count": 131,
   "metadata": {},
   "outputs": [
    {
     "data": {
      "text/plain": [
       "16.64447733194296"
      ]
     },
     "execution_count": 131,
     "metadata": {},
     "output_type": "execute_result"
    }
   ],
   "source": [
    "a = BTC2CLAM * CLAM2ETH\n",
    "a"
   ]
  },
  {
   "cell_type": "code",
   "execution_count": 132,
   "metadata": {},
   "outputs": [
    {
     "data": {
      "text/plain": [
       "0.9541438308297635"
      ]
     },
     "execution_count": 132,
     "metadata": {},
     "output_type": "execute_result"
    }
   ],
   "source": [
    "result = a * ETH2BTC\n",
    "result"
   ]
  },
  {
   "cell_type": "code",
   "execution_count": 176,
   "metadata": {},
   "outputs": [
    {
     "name": "stdout",
     "output_type": "stream",
     "text": [
      "('ANT', 'BNT', 'BCH')\n"
     ]
    }
   ],
   "source": [
    "coins = ['ANT', 'BNT', 'BCH', 'BLK', 'CLAM', 'DASH', 'DOGE', 'ETH', 'ETC', 'ZEC' ]\n",
    "combos = list(itertools.combinations(coins, 3))\n",
    "print(combos[0])"
   ]
  },
  {
   "cell_type": "code",
   "execution_count": 177,
   "metadata": {},
   "outputs": [
    {
     "data": {
      "text/plain": [
       "[(('ANT', 'BLK', 'DOGE'), 0.7792216821227335),\n",
       " (('ANT', 'BLK', 'CLAM'), 0.7921119018547379),\n",
       " (('ANT', 'BNT', 'BLK'), 0.798473707854195),\n",
       " (('ANT', 'BLK', 'DASH'), 0.8100121256509383),\n",
       " (('ANT', 'BLK', 'ZEC'), 0.8110270149590499),\n",
       " (('ANT', 'BLK', 'ETC'), 0.8114533389811942),\n",
       " (('BLK', 'CLAM', 'DOGE'), 0.8122361887788325),\n",
       " (('ANT', 'BCH', 'BLK'), 0.812404760349833),\n",
       " (('ANT', 'BLK', 'ETH'), 0.813000541178742),\n",
       " (('BNT', 'BLK', 'DOGE'), 0.8187764135203992),\n",
       " (('BLK', 'DASH', 'DOGE'), 0.8305810504037452),\n",
       " (('BNT', 'BLK', 'CLAM'), 0.8323209646074647),\n",
       " (('BCH', 'BLK', 'DOGE'), 0.8330635345259852),\n",
       " (('BLK', 'CLAM', 'DASH'), 0.8443355796915673),\n",
       " (('BLK', 'DOGE', 'ZEC'), 0.8446341259909508),\n",
       " (('BLK', 'CLAM', 'ZEC'), 0.8453953436545967),\n",
       " (('BLK', 'DOGE', 'ETC'), 0.8455209309875633),\n",
       " (('BLK', 'CLAM', 'ETC'), 0.8458341356449318),\n",
       " (('BCH', 'BLK', 'CLAM'), 0.8468444293048718),\n",
       " (('BLK', 'DOGE', 'ETH'), 0.8468867686003912),\n",
       " (('BLK', 'CLAM', 'ETH'), 0.8474563288564698),\n",
       " (('ANT', 'CLAM', 'DOGE'), 0.8482228249998809),\n",
       " (('BNT', 'BLK', 'DASH'), 0.8511298368158705),\n",
       " (('BNT', 'BLK', 'ZEC'), 0.8521962437792293),\n",
       " (('BNT', 'BLK', 'ETC'), 0.852644208795934),\n",
       " (('BNT', 'BCH', 'BLK'), 0.8536434873367943),\n",
       " (('BNT', 'BLK', 'ETH'), 0.8542699498338993),\n",
       " (('ANT', 'BNT', 'DOGE'), 0.8550560145390335),\n",
       " (('BLK', 'DASH', 'ZEC'), 0.864487256665716),\n",
       " (('BLK', 'DASH', 'ETC'), 0.8649358827190351),\n",
       " (('BCH', 'BLK', 'DASH'), 0.865981504217682),\n",
       " (('BLK', 'ETC', 'ZEC'), 0.8660270459552871),\n",
       " (('BLK', 'DASH', 'ETH'), 0.8665948122945639),\n",
       " (('BCH', 'BLK', 'ZEC'), 0.8670665192956314),\n",
       " (('ANT', 'DASH', 'DOGE'), 0.8673838365435069),\n",
       " (('BCH', 'BLK', 'ETC'), 0.8675223010133233),\n",
       " (('BLK', 'ETH', 'ZEC'), 0.8676764723088853),\n",
       " (('BLK', 'ETH', 'ETC'), 0.8681267560749468),\n",
       " (('BCH', 'BLK', 'ETH'), 0.8691764101851888),\n",
       " (('ANT', 'BNT', 'CLAM'), 0.8692003823465233),\n",
       " (('ANT', 'BCH', 'DOGE'), 0.8699742642909403),\n",
       " (('ANT', 'CLAM', 'DASH'), 0.8817443996562758),\n",
       " (('ANT', 'DOGE', 'ZEC'), 0.8820561168129251),\n",
       " (('ANT', 'CLAM', 'ZEC'), 0.8828511171295584),\n",
       " (('ANT', 'DOGE', 'ETC'), 0.8829822122045416),\n",
       " (('ANT', 'CLAM', 'ETC'), 0.8833093500755552),\n",
       " (('ANT', 'BCH', 'CLAM'), 0.8843654132625753),\n",
       " (('ANT', 'DOGE', 'ETH'), 0.8844085640223238),\n",
       " (('ANT', 'CLAM', 'ETH'), 0.8850034155796486),\n",
       " (('ANT', 'BNT', 'DASH'), 0.8888450963289691),\n",
       " (('ANT', 'BNT', 'ZEC'), 0.8899612476480547),\n",
       " (('ANT', 'BNT', 'ETC'), 0.8904231813432142),\n",
       " (('BNT', 'CLAM', 'DOGE'), 0.8912797800891755),\n",
       " (('ANT', 'BNT', 'BCH'), 0.8915007596823051),\n",
       " (('ANT', 'BNT', 'ETH'), 0.8921297808395722),\n",
       " (('ANT', 'DASH', 'ZEC'), 0.9027924161828423),\n",
       " (('ANT', 'DASH', 'ETC'), 0.9032609207160387),\n",
       " (('CLAM', 'DASH', 'DOGE'), 0.9041341670506365),\n",
       " (('ANT', 'BCH', 'DASH'), 0.9043536080303989),\n",
       " (('ANT', 'ETC', 'ZEC'), 0.904397558093891),\n",
       " (('ANT', 'DASH', 'ETH'), 0.9049933569413514),\n",
       " (('ANT', 'BCH', 'ZEC'), 0.9054885906115323),\n",
       " (('ANT', 'BCH', 'ETC'), 0.9059584946509018),\n",
       " (('ANT', 'ETH', 'ZEC'), 0.9061302383460798),\n",
       " (('ANT', 'ETH', 'ETC'), 0.9066004778296731),\n",
       " (('BCH', 'CLAM', 'DOGE'), 0.9068320411046967),\n",
       " (('ANT', 'BCH', 'ETH'), 0.9076961120446138),\n",
       " (('BNT', 'DASH', 'DOGE'), 0.9114123894788796),\n",
       " (('BNT', 'BCH', 'DOGE'), 0.9141352945085964),\n",
       " (('CLAM', 'DOGE', 'ZEC'), 0.9194269380979234),\n",
       " (('CLAM', 'DOGE', 'ETC'), 0.9203922701602159),\n",
       " (('CLAM', 'DOGE', 'ETH'), 0.9218790534379198),\n",
       " (('BNT', 'CLAM', 'DASH'), 0.926502955895602),\n",
       " (('BNT', 'DOGE', 'ZEC'), 0.92683091383227),\n",
       " (('BCH', 'DASH', 'DOGE'), 0.9273167077351493),\n",
       " (('BNT', 'CLAM', 'ZEC'), 0.927665851867198),\n",
       " (('BNT', 'DOGE', 'ETC'), 0.9278040195358042),\n",
       " (('BNT', 'CLAM', 'ETC'), 0.9281473453466238),\n",
       " (('BNT', 'BCH', 'CLAM'), 0.9292569570030896),\n",
       " (('BNT', 'DOGE', 'ETH'), 0.9293027756053139),\n",
       " (('BNT', 'CLAM', 'ETH'), 0.9299274039414219),\n",
       " (('DASH', 'DOGE', 'ZEC'), 0.9401949697398055),\n",
       " (('CLAM', 'DASH', 'ZEC'), 0.9410429787091885),\n",
       " (('DASH', 'DOGE', 'ETC'), 0.9411821067394822),\n",
       " (('CLAM', 'DASH', 'ETC'), 0.9415313333891293),\n",
       " (('DOGE', 'ETC', 'ZEC'), 0.9423665415642971),\n",
       " (('BCH', 'CLAM', 'DASH'), 0.9426698387573433),\n",
       " (('DASH', 'DOGE', 'ETH'), 0.9427024735036781),\n",
       " (('CLAM', 'ETC', 'ZEC'), 0.9427149716376113),\n",
       " (('BCH', 'DOGE', 'ZEC'), 0.943003516223291),\n",
       " (('CLAM', 'DASH', 'ETH'), 0.9433371714939565),\n",
       " (('BCH', 'CLAM', 'ZEC'), 0.9438530265184405),\n",
       " (('DOGE', 'ETH', 'ZEC'), 0.9438868289403647),\n",
       " (('BCH', 'DOGE', 'ETC'), 0.9439936019944867),\n",
       " (('BCH', 'CLAM', 'ETC'), 0.9443429217505332),\n",
       " (('DOGE', 'ETH', 'ETC'), 0.9443766623398346),\n",
       " (('CLAM', 'ETH', 'ZEC'), 0.9445209748911557),\n",
       " (('CLAM', 'ETH', 'ETC'), 0.9450111373829039),\n",
       " (('BCH', 'DOGE', 'ETH'), 0.9455185103919254),\n",
       " (('BCH', 'CLAM', 'ETH'), 0.9461540412271192),\n",
       " (('BNT', 'DASH', 'ZEC'), 0.9486183147192457),\n",
       " (('BNT', 'DASH', 'ETC'), 0.9491106006232394),\n",
       " (('BNT', 'BCH', 'DASH'), 0.9502597786505458),\n",
       " (('BNT', 'ETC', 'ZEC'), 0.9503043348967708),\n",
       " (('BNT', 'DASH', 'ETH'), 0.9509309756097324),\n",
       " (('BNT', 'BCH', 'ZEC'), 0.9514523744302751),\n",
       " (('BNT', 'BCH', 'ETC'), 0.9519461314125808),\n",
       " (('BNT', 'ETH', 'ZEC'), 0.9521236934923994),\n",
       " (('BNT', 'ETH', 'ETC'), 0.9526178014417845),\n",
       " (('BNT', 'BCH', 'ETH'), 0.9537719525352765),\n",
       " (('DASH', 'ETC', 'ZEC'), 0.9640068658182888),\n",
       " (('BCH', 'DASH', 'ZEC'), 0.9651718833948347),\n",
       " (('BCH', 'DASH', 'ETC'), 0.9656727597807886),\n",
       " (('DASH', 'ETH', 'ZEC'), 0.9658537724646323),\n",
       " (('DASH', 'ETH', 'ETC'), 0.9663550056869333),\n",
       " (('BCH', 'ETC', 'ZEC'), 0.9668865429465979),\n",
       " (('BCH', 'DASH', 'ETH'), 0.967524900654453),\n",
       " (('ETH', 'ETC', 'ZEC'), 0.9675696535915335),\n",
       " (('BCH', 'ETH', 'ZEC'), 0.9687389744297864),\n",
       " (('BCH', 'ETH', 'ETC'), 0.9692417049378248)]"
      ]
     },
     "execution_count": 177,
     "metadata": {},
     "output_type": "execute_result"
    }
   ],
   "source": [
    "i = 0\n",
    "curr = []\n",
    "random.shuffle(coins)\n",
    "while i < len(combos): \n",
    "    \n",
    "    BTC2Alt = float(df[df['pair'].str.contains('BTC_' + combos[i][0])]['rate'].astype(float))\n",
    "    seq = combos[i][0] + '_' + combos[i][1]\n",
    "    Alt2Alt = float(df[df['pair'].str.contains(seq)]['rate'].astype(float))\n",
    "    seq2 = combos[i][1] + '_' + combos[i][2]\n",
    "    Alt22Alt = float(df[df['pair'].str.contains(seq2)]['rate'].astype(float))\n",
    "    \n",
    "    \n",
    "    Alt2BTC = float(df[df['pair'].str.contains(combos[i][2] + \"_BTC\")]['rate'].astype(float))\n",
    "    seq2 = 'BTC_' + seq + '_BTC'\n",
    "\n",
    "    \n",
    "    a = BTC2Alt * Alt2Alt\n",
    "    b = a * Alt22Alt\n",
    "    result = b * Alt2BTC\n",
    "    curr.append((combos[i],result))\n",
    "    i += 1\n",
    "\n",
    "sorted(curr, key=lambda tup: tup[1])\n"
   ]
  },
  {
   "cell_type": "code",
   "execution_count": null,
   "metadata": {},
   "outputs": [],
   "source": []
  },
  {
   "cell_type": "code",
   "execution_count": null,
   "metadata": {},
   "outputs": [],
   "source": []
  },
  {
   "cell_type": "code",
   "execution_count": null,
   "metadata": {},
   "outputs": [],
   "source": []
  },
  {
   "cell_type": "code",
   "execution_count": null,
   "metadata": {},
   "outputs": [],
   "source": []
  },
  {
   "cell_type": "code",
   "execution_count": null,
   "metadata": {},
   "outputs": [],
   "source": []
  },
  {
   "cell_type": "code",
   "execution_count": null,
   "metadata": {},
   "outputs": [],
   "source": []
  },
  {
   "cell_type": "code",
   "execution_count": null,
   "metadata": {},
   "outputs": [],
   "source": []
  }
 ],
 "metadata": {
  "kernelspec": {
   "display_name": "Python 3",
   "language": "python",
   "name": "python3"
  },
  "language_info": {
   "codemirror_mode": {
    "name": "ipython",
    "version": 3
   },
   "file_extension": ".py",
   "mimetype": "text/x-python",
   "name": "python",
   "nbconvert_exporter": "python",
   "pygments_lexer": "ipython3",
   "version": "3.6.5"
  }
 },
 "nbformat": 4,
 "nbformat_minor": 2
}
